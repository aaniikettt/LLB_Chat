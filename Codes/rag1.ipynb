{
 "cells": [
  {
   "cell_type": "code",
   "execution_count": 39,
   "id": "732f1c3a",
   "metadata": {},
   "outputs": [],
   "source": [
    "from PyPDF2 import PdfReader\n",
    "from langchain_ollama import OllamaEmbeddings\n",
    "from langchain_text_splitters import RecursiveCharacterTextSplitter\n",
    "from langchain_community.vectorstores import Chroma\n",
    "from langchain.prompts import ChatPromptTemplate, PromptTemplate\n",
    "from langchain_core.output_parsers import StrOutputParser\n",
    "from langchain_ollama.chat_models import ChatOllama\n",
    "from langchain_core.runnables import RunnablePassthrough\n",
    "from langchain.retrievers.multi_query import MultiQueryRetriever\n",
    "\n",
    "# Suppress warnings\n",
    "import warnings\n",
    "warnings.filterwarnings('ignore')\n",
    "\n",
    "# Jupyter-specific imports\n",
    "from IPython.display import display, Markdown\n",
    "\n",
    "# Set environment variable for protobuf\n",
    "import os\n",
    "os.environ[\"PROTOCOL_BUFFERS_PYTHON_IMPLEMENTATION\"] = \"python\""
   ]
  },
  {
   "cell_type": "code",
   "execution_count": 40,
   "id": "d95324fa",
   "metadata": {},
   "outputs": [],
   "source": [
    "\n",
    "\n",
    "reader = PdfReader(\"indian_rules.pdf\")\n",
    "number_of_pages = len(reader.pages)\n",
    "page = reader.pages[0]\n",
    "text = page.extract_text()"
   ]
  },
  {
   "cell_type": "code",
   "execution_count": 41,
   "id": "b5b4e78b",
   "metadata": {},
   "outputs": [
    {
     "name": "stdout",
     "output_type": "stream",
     "text": [
      "<PyPDF2._reader.PdfReader object at 0x13f1e8750>\n"
     ]
    }
   ],
   "source": [
    "print(reader)"
   ]
  },
  {
   "cell_type": "code",
   "execution_count": 43,
   "id": "555259cd",
   "metadata": {},
   "outputs": [
    {
     "name": "stdout",
     "output_type": "stream",
     "text": [
      "PDF loaded successfully: indian_rules.pdf\n"
     ]
    }
   ],
   "source": [
    "from langchain_community.document_loaders import PyMuPDFLoader\n",
    "\n",
    "local_path = \"indian_rules.pdf\"\n",
    "\n",
    "if local_path:\n",
    "    loader = PyMuPDFLoader(file_path=local_path)\n",
    "    data = loader.load()\n",
    "    print(f\"PDF loaded successfully: {local_path}\")\n",
    "else:\n",
    "    print(\"Upload a PDF file\")"
   ]
  },
  {
   "cell_type": "code",
   "execution_count": 44,
   "id": "58e65125",
   "metadata": {},
   "outputs": [
    {
     "name": "stdout",
     "output_type": "stream",
     "text": [
      "Text split into 2796 chunks\n"
     ]
    }
   ],
   "source": [
    "text_splitter = RecursiveCharacterTextSplitter(chunk_size=1000, chunk_overlap=200)\n",
    "chunks = text_splitter.split_documents(data)\n",
    "print(f\"Text split into {len(chunks)} chunks\")"
   ]
  },
  {
   "cell_type": "code",
   "execution_count": 46,
   "id": "c061c907",
   "metadata": {},
   "outputs": [
    {
     "name": "stdout",
     "output_type": "stream",
     "text": [
      "Vector database created successfully\n"
     ]
    }
   ],
   "source": [
    "\n",
    "# Create vector database\n",
    "vector_db = Chroma.from_documents(\n",
    "    documents=chunks,\n",
    "    embedding=OllamaEmbeddings(model=\"llama3.2\"),\n",
    "    collection_name=\"local-rag\"\n",
    ")\n",
    "print(\"Vector database created successfully\")"
   ]
  },
  {
   "cell_type": "code",
   "execution_count": 47,
   "id": "3e6f0022",
   "metadata": {},
   "outputs": [],
   "source": [
    "# Set up LLM and retrieval\n",
    "local_model = \"llama3.2\" \n",
    "llm = ChatOllama(model=local_model)"
   ]
  },
  {
   "cell_type": "code",
   "execution_count": 49,
   "id": "10b52a28",
   "metadata": {},
   "outputs": [],
   "source": [
    "QUERY_PROMPT = PromptTemplate(\n",
    "    input_variables=[\"question\"],\n",
    "    template=\"\"\"You are an AI language model assistant. Your task is to generate 2\n",
    "    different versions of the given user question to retrieve relevant documents from\n",
    "    a vector database. By generating multiple perspectives on the user question, your\n",
    "    goal is to help the user overcome some of the limitations of the distance-based\n",
    "    similarity search. Provide these alternative questions separated by newlines.\n",
    "    Original question: {question}\"\"\",\n",
    ")\n",
    "\n",
    "# Set up retriever\n",
    "retriever = MultiQueryRetriever.from_llm(\n",
    "    vector_db.as_retriever(), \n",
    "    llm,\n",
    "    prompt=QUERY_PROMPT\n",
    ")"
   ]
  },
  {
   "cell_type": "code",
   "execution_count": 50,
   "id": "9107e919",
   "metadata": {},
   "outputs": [],
   "source": [
    "# RAG prompt template\n",
    "template = \"\"\"Answer the question based ONLY on the following context:\n",
    "{context}\n",
    "Question: {question}\n",
    "\"\"\"\n",
    "\n",
    "prompt = ChatPromptTemplate.from_template(template)\n"
   ]
  },
  {
   "cell_type": "code",
   "execution_count": 51,
   "id": "4194b8c1",
   "metadata": {},
   "outputs": [],
   "source": [
    "# Create chain\n",
    "chain = (\n",
    "    {\"context\": retriever, \"question\": RunnablePassthrough()}\n",
    "    | prompt\n",
    "    | llm\n",
    "    | StrOutputParser()\n",
    ")\n"
   ]
  },
  {
   "cell_type": "code",
   "execution_count": 52,
   "id": "1d0664f2",
   "metadata": {},
   "outputs": [],
   "source": [
    "def chat_with_pdf(question):\n",
    "    \"\"\"\n",
    "    Chat with the PDF using the RAG chain.\n",
    "    \"\"\"\n",
    "    return display(Markdown(chain.invoke(question)))\n"
   ]
  },
  {
   "cell_type": "code",
   "execution_count": 53,
   "id": "fcdea0f8",
   "metadata": {},
   "outputs": [
    {
     "data": {
      "text/markdown": [
       "The Fundamental Rights of Indian citizens are enshrined in Part III of the Indian Constitution, specifically in Articles 14-35. Some of the key fundamental rights mentioned in these articles include:\n",
       "\n",
       "1. Equality (Article 14): All citizens are equal before the law and are entitled to the equal protection of the laws.\n",
       "2. Freedom of Speech and Expression (Article 19(1)(a)): Citizens have the right to freedom of speech, expression, and assembly.\n",
       "3. Freedom of Trade, Commerce, and Industry (Article 19(1)(e)): Citizens have the right to carry on trade, commerce, and industry in any part of the country.\n",
       "4. Right to Life, Liberty, and Security of the Person (Article 21): Every citizen has a right to life, liberty, and security of the person.\n",
       "5. Protection against Enforced Confinement (Article 22(1)): No person shall be subjected to enforced confinement except in accordance with law.\n",
       "6. Freedom from Arbitrary Arrest and Detention (Article 22(2)): No person shall be arrested or detained without cause.\n",
       "\n",
       "Additionally, Articles 29-30 deal with the special provisions for Scheduled Castes and Scheduled Tribes, respectively, which provide special rights and protections for these groups.\n",
       "\n",
       "These fundamental rights are designed to protect citizens from exploitation, oppression, and injustice, and to ensure that they have the freedom and dignity to pursue their goals and aspirations."
      ],
      "text/plain": [
       "<IPython.core.display.Markdown object>"
      ]
     },
     "metadata": {},
     "output_type": "display_data"
    }
   ],
   "source": [
    "chat_with_pdf(\"What are the fundamental rights of Indian citizens written in the Indian Constituition?\")"
   ]
  },
  {
   "cell_type": "code",
   "execution_count": 54,
   "id": "344b3214",
   "metadata": {},
   "outputs": [
    {
     "data": {
      "text/markdown": [
       "The Bharatiya Nyay Sanhita (Indian Code of Criminal Procedure) is a comprehensive code that governs the criminal justice system in India. It was enacted in 1973 and came into effect on April 1, 1974.\n",
       "\n",
       "Key Features:\n",
       "\n",
       "* Consolidates various laws related to criminal procedure\n",
       "* Establishes a uniform framework for investigation, prosecution, and trial of offenses\n",
       "* Emphasizes the rights of accused persons and provides safeguards against arbitrary arrest and detention\n",
       "* Introduces new concepts such as \"rehabilitation\" and \"reform\" in the treatment of offenders\n",
       "\n",
       "Objective: To provide a fair, efficient, and just system for dealing with crimes and ensuring the protection of human rights."
      ],
      "text/plain": [
       "<IPython.core.display.Markdown object>"
      ]
     },
     "metadata": {},
     "output_type": "display_data"
    }
   ],
   "source": [
    "chat_with_pdf(\"write in brief about the bharitya nyaya sanhita?\")"
   ]
  },
  {
   "cell_type": "code",
   "execution_count": 55,
   "id": "306b825b",
   "metadata": {},
   "outputs": [
    {
     "data": {
      "text/markdown": [
       "The provided context appears to be from Indian law, specifically regarding crimes and their definitions under the PDF documents labeled 'indian_rules.pdf'. There isn't a specific mention of punishments in these documents. However, based on sections (d) and (e), we can infer that certain actions might be considered criminal force.\n",
       "\n",
       "For instance, according to section (d), \"A intentionally pushes against Z in the street.\" This could potentially fall under the definition of using criminal force without consent.\n",
       "\n",
       "However, there isn't any information provided about punishments for such crimes. The text only provides definitions of various types of offenses.\n",
       "\n",
       "From another part of 'indian_rules.pdf', we can see section (j) and (k), which discusses theft in different contexts. According to these sections:\n",
       "\n",
       "- Theft is committed if A takes the watch out of Z's possession with the intention of depriving Z of the property as a security for his debt (Section (j)).\n",
       "- Theft is also committed when A, having pawned his watch to Z, takes it out without paying what he borrowed on the watch (Section (k)).\n",
       "\n",
       "Again, there isn't any information provided about punishments for such crimes."
      ],
      "text/plain": [
       "<IPython.core.display.Markdown object>"
      ]
     },
     "metadata": {},
     "output_type": "display_data"
    }
   ],
   "source": [
    "chat_with_pdf(\"whats the punishment for a small petty crime accoring to crime laws?\")"
   ]
  },
  {
   "cell_type": "code",
   "execution_count": 56,
   "id": "f705646a",
   "metadata": {},
   "outputs": [
    {
     "data": {
      "text/markdown": [
       "In the context of Indian law, as presented in the provided text from the Indian Penal Code (IPC), several sections and subsections define \"major\" or serious offenses that carry specific penalties and requirements for arrest and prosecution.\n",
       "\n",
       "A \"major offense\" can be determined by looking at the following characteristics:\n",
       "\n",
       "1. **Cognizable Offense**: An offense is cognizable if a police officer has the authority to make an arrest without a warrant. These are typically serious crimes like kidnapping, rape, or murder.\n",
       "2. **Bailable Offense**: A bailable offense allows a person arrested under the section to be released on bail. Some serious offenses are made non-bailable, meaning no bail can be granted.\n",
       "\n",
       "Considering these characteristics, some examples of \"major offenses\" from the provided text include:\n",
       "\n",
       "* Kidnapping (Section 137 IPC), which is both cognizable and non-bailable.\n",
       "* Maiming a child for purposes of begging (Section 137(2) IPC), also cognizable and non-bailable.\n",
       "* Murder or causing death with intent to cause harm ( Sections 302-304, not explicitly listed but implied by the context).\n",
       "* Abducting in order to murder (Section 138(1) IPC), which is both cognizable and non-bailable.\n",
       "\n",
       "These offenses are considered major because of their severity, the potential for harm, and the seriousness with which they are treated under the law."
      ],
      "text/plain": [
       "<IPython.core.display.Markdown object>"
      ]
     },
     "metadata": {},
     "output_type": "display_data"
    }
   ],
   "source": [
    "chat_with_pdf(\"what is termed as a major offence?\")"
   ]
  },
  {
   "cell_type": "code",
   "execution_count": 57,
   "id": "f84d11ae",
   "metadata": {},
   "outputs": [
    {
     "data": {
      "text/markdown": [
       "I can't provide a direct answer to your question about land grabbing based on the provided text, as it appears to be excerpts from various sections of the Indian Constitution and laws. However, I can try to help you understand the context and possibly point you in the right direction for more information.\r\n",
       "\r\n",
       "The Indian Constitution and laws mention several clauses related to property rights, land acquisition, and disputes, but they don't specifically address \"land grabbing\" as a concept. However, some relevant sections include:\r\n",
       "\r\n",
       "1. **Article 301**: Protection of Property Rights - This article ensures that no person shall be deprived of his property save by authority of law.\r\n",
       "2. **Article 305**: Acquisition of Estate for Public Purpose - This article allows for the acquisition of estate for public purpose, but it also mentions that the acquisition shall be made on just and equitable terms, and with fair compensation to the owner.\r\n",
       "3. **Section 55 of the Land Acquisition Act, 1894**: This section deals with the procedure for land acquisition, including the payment of compensation to the landowner.\r\n",
       "\r\n",
       "If you're looking for information on land grabbing, you may want to explore other laws and regulations that specifically address this issue, such as:\r\n",
       "\r\n",
       "1. **Land Grabbing Laws**: These are laws that specifically address the issue of land grabbing, often in the context of real estate or property development.\r\n",
       "2. **Land Acquisition Laws**: These laws govern the process of acquiring land for public purpose, including the compensation to be paid to the landowner.\r\n",
       "\r\n",
       "To find more information on land grabbing laws, you can try searching online or consulting with a lawyer or expert in Indian law and property rights."
      ],
      "text/plain": [
       "<IPython.core.display.Markdown object>"
      ]
     },
     "metadata": {},
     "output_type": "display_data"
    }
   ],
   "source": [
    "chat_with_pdf(\"what does the law say about land grabbing?\")"
   ]
  },
  {
   "cell_type": "code",
   "execution_count": 58,
   "id": "0b2a815f",
   "metadata": {},
   "outputs": [
    {
     "data": {
      "text/markdown": [
       "The aspect of land grabbing laws in India is a complex and multifaceted issue. Land grabbing refers to the act of acquiring land from one person or entity by another, often without fair compensation or through coercive means. Here are some key aspects of land grabbing laws in India:\n",
       "\n",
       "**Definition of Land Grabbing**\n",
       "\n",
       "Land grabbing can take many forms, including:\n",
       "\n",
       "1. **Forced land acquisition**: This involves the use of force or coercion to acquire land from farmers or tribals for projects such as dams, roads, and industrial projects.\n",
       "2. **Collusive land acquisition**: This involves the collusional agreement between landowners and government agencies or private companies to sell their land at below-market rates.\n",
       "3. **Commercial encroachment**: This involves the unauthorized occupation of land by individuals or companies for commercial purposes.\n",
       "\n",
       "**Laws and Regulations**\n",
       "\n",
       "The Indian government has enacted several laws and regulations to prevent land grabbing, including:\n",
       "\n",
       "1. **Land Acquisition Act, 1894**: This act provides the legal framework for land acquisition in India.\n",
       "2. **Land Acquisition (Small Scale Industries) Act, 1988**: This act allows for the compulsory acquisition of land for small-scale industries.\n",
       "3. **Compensation and Rehabilitation Standards for Land Acquisition Act, 2007**: This act sets out the standards for compensation to be paid to landowners when land is acquired.\n",
       "4. **Land Regulatory Scheme (LRS) Regulations, 2013**: These regulations govern the acquisition of land for industrial purposes.\n",
       "\n",
       "**Challenges and Controversies**\n",
       "\n",
       "Despite these laws and regulations, land grabbing remains a significant challenge in India. Some of the key issues include:\n",
       "\n",
       "1. **Inadequate compensation**: Landowners often receive inadequate compensation for their land, which can lead to disputes and violence.\n",
       "2. **Coercive methods**: Land acquisition is often carried out through coercive means, including threats, intimidation, and violence against landowners.\n",
       "3. **Lack of transparency**: The process of land acquisition is often opaque, making it difficult for landowners to know their rights or to challenge the acquisition process.\n",
       "4. **Influence of money and politics**: Land grabbing is often influenced by money and politics, with powerful individuals and companies using their influence to acquire land without following due process.\n",
       "\n",
       "**Examples of High-Profile Cases**\n",
       "\n",
       "Some high-profile cases of land grabbing in India include:\n",
       "\n",
       "1. **Narmada Bachao Andolan (NBDA)**: This movement, led by environmental activist Medha Patkar, has been fighting against the forced displacement of tribals and farmers to make way for a series of dams on the Narmada River.\n",
       "2. **Gujarat farmers' protests**: In 2015-16, thousands of farmers in Gujarat protested against the acquisition of their land for industrial purposes without adequate compensation.\n",
       "3. **Land grab in Odisha's Niyamgiri Hills**: In 2018, the government of Odisha acquired land from indigenous communities on the Niyamgiri Hills without their consent, sparking widespread protests and allegations of human rights abuses.\n",
       "\n",
       "**Reforms and Initiatives**\n",
       "\n",
       "In recent years, there have been several reforms and initiatives aimed at preventing land grabbing in India, including:\n",
       "\n",
       "1. **National Land Record Modernization Programme (NLRMP)**: This program aims to create a modern land record system that can help prevent disputes over land ownership.\n",
       "2. **Land Portal**: The Government of India has launched the Land Portal, an online platform that provides access to information on land acquisition and compensation.\n",
       "3. **State-level land laws**: Some states in India have enacted their own land laws, such as the Andhra Pradesh Land (Acquisition) and Reclamation Act, 2015, which aim to protect farmers' rights and prevent land grabbing.\n",
       "\n",
       "Overall, while there are several laws and regulations in place to prevent land grabbing, these laws often face challenges in being enforced effectively. The issue of land grabbing remains a pressing concern in India, with many landowners continuing to face displacement, coercion, and inadequate compensation for their land."
      ],
      "text/plain": [
       "<IPython.core.display.Markdown object>"
      ]
     },
     "metadata": {},
     "output_type": "display_data"
    }
   ],
   "source": [
    "chat_with_pdf(\"tell me in details about the aspect of Land grabbing laws\")"
   ]
  },
  {
   "cell_type": "code",
   "execution_count": 59,
   "id": "39bc5556",
   "metadata": {},
   "outputs": [
    {
     "data": {
      "text/markdown": [
       "There is no mention of \"traffic violations\" in the provided text. The text appears to be related to a legal document, specifically the Indian Penal Code (IPC), which outlines various offenses and procedures for trial in India.\n",
       "\n",
       "If you're looking for information on traffic violations, I'd be happy to help with that! However, it would require a separate search or reference material not present in the provided text."
      ],
      "text/plain": [
       "<IPython.core.display.Markdown object>"
      ]
     },
     "metadata": {},
     "output_type": "display_data"
    }
   ],
   "source": [
    "chat_with_pdf(\"what are the aspects of traffic viiolations?\")"
   ]
  },
  {
   "cell_type": "code",
   "execution_count": 60,
   "id": "afcb4a83",
   "metadata": {},
   "outputs": [
    {
     "data": {
      "text/markdown": [
       "Based on the provided text, the following clauses relate to crimes under the death penalty:\n",
       "\n",
       "- Clause 250 of the Indian Penal Code ( IPC) deals with \"Punishment for murder\".\n",
       "- Clause 302 of the IPC deals with \"Punishment for murder in case of intent to kill\".\n",
       "\n",
       "Additionally, there are specific sections under the Criminal Procedure Code (CrPC), such as Section 395 which pertains to \"Assault or false representation committed at and upon the substance of an execution of a judgment by a public judge\", and Section 396 which pertains to \"Preparation of scheme for providing compensation to victims\". \n",
       "\n",
       "These are some of the specific provisions that deal with crimes under the death penalty. However, without more information about the exact section you're referring to, it is difficult to provide an exhaustive list."
      ],
      "text/plain": [
       "<IPython.core.display.Markdown object>"
      ]
     },
     "metadata": {},
     "output_type": "display_data"
    }
   ],
   "source": [
    "chat_with_pdf(\"what are the crimes under death penalty?\")"
   ]
  },
  {
   "cell_type": "code",
   "execution_count": null,
   "id": "784967e3",
   "metadata": {},
   "outputs": [],
   "source": []
  },
  {
   "cell_type": "code",
   "execution_count": null,
   "id": "de7e10df",
   "metadata": {},
   "outputs": [],
   "source": []
  }
 ],
 "metadata": {
  "kernelspec": {
   "display_name": "myenv",
   "language": "python",
   "name": "python3"
  },
  "language_info": {
   "codemirror_mode": {
    "name": "ipython",
    "version": 3
   },
   "file_extension": ".py",
   "mimetype": "text/x-python",
   "name": "python",
   "nbconvert_exporter": "python",
   "pygments_lexer": "ipython3",
   "version": "3.11.11"
  }
 },
 "nbformat": 4,
 "nbformat_minor": 5
}
